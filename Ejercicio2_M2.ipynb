{
 "cells": [
  {
   "cell_type": "code",
   "execution_count": 30,
   "metadata": {},
   "outputs": [],
   "source": [
    "import pandas as pd"
   ]
  },
  {
   "cell_type": "code",
   "execution_count": 5,
   "metadata": {},
   "outputs": [
    {
     "name": "stdout",
     "output_type": "stream",
     "text": [
      "Ventas originales:\n",
      "2020    5000.0\n",
      "2021    6500.0\n",
      "2022    7000.0\n",
      "2023    7200.0\n",
      "dtype: float64\n",
      "Ventas con descuento del 10%:\n",
      "2020    4500.0\n",
      "2021    5850.0\n",
      "2022    6300.0\n",
      "2023    6480.0\n",
      "dtype: float64\n"
     ]
    }
   ],
   "source": [
    "# Escribir un programa que pregunte al usuario por las ventas de un rango de años y \n",
    "# muestre por pantalla una serie con los datos de las ventas indexada por los años, \n",
    "# antes y después de aplicarles un descuento del 10%.\n",
    "\n",
    "\n",
    "# Pedir al usuario que ingrese los datos de ventas para cada año\n",
    "año_inicial = int(input(\"Ingrese el año inicial: \")) # ingreso año inicial\n",
    "año_final = int(input(\"Ingrese el año final: \"))     # ingreso año final\n",
    "años = list(range(año_inicial, año_final + 1))       # ingluir todos los años en el rango ingresado y convertirlo en una lista\n",
    "ventas = []\n",
    "for año in años:  # pedir al usuario que ingrese las ventas de cada año\n",
    "    ventas.append(float(input(f\"Ingrese las ventas para el año {año}: \")))\n",
    "\n",
    "# Crear una serie con los datos de ventas y aplicar el descuento del 10%\n",
    "serie_ventas = pd.Series(ventas, index = años)\n",
    "descuento_ventas = serie_ventas * 0.9\n",
    "\n",
    "# Imprimir la Serie original y la Serie con descuento\n",
    "print(\"Ventas originales:\")\n",
    "print(serie_ventas)\n",
    "print(\"Ventas con descuento del 10%:\")\n",
    "print(descuento_ventas)\n"
   ]
  },
  {
   "cell_type": "code",
   "execution_count": 38,
   "metadata": {},
   "outputs": [
    {
     "name": "stdout",
     "output_type": "stream",
     "text": [
      "Nota mínima          3.80000\n",
      "Nota máxima          6.50000\n",
      "Nota media           5.08000\n",
      "Desviación típica    1.01341\n",
      "dtype: float64\n"
     ]
    }
   ],
   "source": [
    "# Escribir una función que reciba un diccionario con las notas de los alumnos en curso en un examen \n",
    "# y devuelva una serie con la nota mínima, la máxima, media y la desviación típica\n",
    "\n",
    "# crear un diccionario con las notas\n",
    "notas = {'Alex': 6.5, 'Pedro': 5.2, 'María': 3.8, 'Ana': 4.5, 'Luis': 5.4}\n",
    "\n",
    "def estadisticas_notas(notas):\n",
    "    # Convertir el diccionario en un objeto Series\n",
    "    notas_serie = pd.Series(notas)\n",
    "    \n",
    "    # Calcular la nota mínima, máxima, media y desviación típica\n",
    "    nota_minima = notas_serie.min()\n",
    "    nota_maxima = notas_serie.max()\n",
    "    nota_media = notas_serie.mean()\n",
    "    nota_desviacion = notas_serie.std()\n",
    "    \n",
    "    # Crear una nueva Serie con las estadísticas de las notas con un indice (etiqueta) para entender la salida\n",
    "    serie_estadisticas = pd.Series([nota_minima, nota_maxima, nota_media, nota_desviacion], \n",
    "        index=['Nota mínima', 'Nota máxima', 'Nota media', 'Desviación típica'])\n",
    "    \n",
    "    return serie_estadisticas\n",
    "\n",
    "\n",
    "estadisticas = estadisticas_notas(notas)\n",
    "print(estadisticas)\n"
   ]
  },
  {
   "cell_type": "code",
   "execution_count": 35,
   "metadata": {},
   "outputs": [
    {
     "data": {
      "text/plain": [
       "Alex     6.5\n",
       "Luis     5.4\n",
       "Pedro    5.2\n",
       "Ana      4.5\n",
       "dtype: float64"
      ]
     },
     "execution_count": 35,
     "metadata": {},
     "output_type": "execute_result"
    }
   ],
   "source": [
    "# Escribir una función que reciba una diccionario con las notas de los alumnos en curso en un examen \n",
    "# y devuelva una serie con las notas de los alumnos aprobados ordenadas de mayor a menor\n",
    "\n",
    "\n",
    "def notas_aprobados(notas):\n",
    "    # Convertir el diccionario en un objeto Series\n",
    "    notas_serie = pd.Series(notas)\n",
    "    \n",
    "    # Filtrar los elementos con nota mayor o igual a 4\n",
    "    notas_aprobados = notas_serie[notas_serie >= 4]\n",
    "    \n",
    "    # Ordenar los elementos filtrados en orden descendente\n",
    "    notas_aprobados_ordenadas = notas_aprobados.sort_values(ascending=False)\n",
    "    \n",
    "    return notas_aprobados_ordenadas\n",
    "\n",
    "notas_aprobados_ordenadas = notas_aprobados(notas)\n",
    "# mostrar las notas aprobadas\n",
    "notas_aprobados_ordenadas\n"
   ]
  },
  {
   "cell_type": "code",
   "execution_count": 36,
   "metadata": {},
   "outputs": [
    {
     "data": {
      "text/html": [
       "<div>\n",
       "<style scoped>\n",
       "    .dataframe tbody tr th:only-of-type {\n",
       "        vertical-align: middle;\n",
       "    }\n",
       "\n",
       "    .dataframe tbody tr th {\n",
       "        vertical-align: top;\n",
       "    }\n",
       "\n",
       "    .dataframe thead th {\n",
       "        text-align: right;\n",
       "    }\n",
       "</style>\n",
       "<table border=\"1\" class=\"dataframe\">\n",
       "  <thead>\n",
       "    <tr style=\"text-align: right;\">\n",
       "      <th></th>\n",
       "      <th>Mes</th>\n",
       "      <th>Ventas</th>\n",
       "      <th>Gastos</th>\n",
       "    </tr>\n",
       "  </thead>\n",
       "  <tbody>\n",
       "    <tr>\n",
       "      <th>0</th>\n",
       "      <td>Enero</td>\n",
       "      <td>30500</td>\n",
       "      <td>22000</td>\n",
       "    </tr>\n",
       "    <tr>\n",
       "      <th>1</th>\n",
       "      <td>Febrero</td>\n",
       "      <td>35600</td>\n",
       "      <td>23400</td>\n",
       "    </tr>\n",
       "    <tr>\n",
       "      <th>2</th>\n",
       "      <td>Marzo</td>\n",
       "      <td>28300</td>\n",
       "      <td>18100</td>\n",
       "    </tr>\n",
       "    <tr>\n",
       "      <th>3</th>\n",
       "      <td>Abril</td>\n",
       "      <td>33900</td>\n",
       "      <td>20700</td>\n",
       "    </tr>\n",
       "  </tbody>\n",
       "</table>\n",
       "</div>"
      ],
      "text/plain": [
       "       Mes  Ventas  Gastos\n",
       "0    Enero   30500   22000\n",
       "1  Febrero   35600   23400\n",
       "2    Marzo   28300   18100\n",
       "3    Abril   33900   20700"
      ]
     },
     "execution_count": 36,
     "metadata": {},
     "output_type": "execute_result"
    }
   ],
   "source": [
    "# Escribir programa que genere y muestre por pantalla un DataFrame con los datos de la tabla\n",
    "\n",
    "# crear un diccionario con los datos\n",
    "datos = {\n",
    "    \"Mes\": [\"Enero\", \"Febrero\", \"Marzo\", \"Abril\"] , \n",
    "    \"Ventas\": [30500, 35600, 28300, 33900], \n",
    "    \"Gastos\": [22000, 23400, 18100, 20700]\n",
    "    }\n",
    "\n",
    "# crear un DataFrame a partir del diccionario\n",
    "datos_df = pd.DataFrame(datos)\n",
    "\n",
    "# mostrar la tabla von los datos\n",
    "datos_df"
   ]
  }
 ],
 "metadata": {
  "kernelspec": {
   "display_name": "base",
   "language": "python",
   "name": "python3"
  },
  "language_info": {
   "codemirror_mode": {
    "name": "ipython",
    "version": 3
   },
   "file_extension": ".py",
   "mimetype": "text/x-python",
   "name": "python",
   "nbconvert_exporter": "python",
   "pygments_lexer": "ipython3",
   "version": "3.10.9"
  },
  "orig_nbformat": 4
 },
 "nbformat": 4,
 "nbformat_minor": 2
}
