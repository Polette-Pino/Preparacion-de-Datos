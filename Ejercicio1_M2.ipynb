{
 "cells": [
  {
   "cell_type": "code",
   "execution_count": 1,
   "metadata": {},
   "outputs": [],
   "source": [
    "import numpy as np # importar numpy"
   ]
  },
  {
   "cell_type": "code",
   "execution_count": 8,
   "metadata": {},
   "outputs": [
    {
     "name": "stdout",
     "output_type": "stream",
     "text": [
      "[[12 10  8]\n",
      " [ 5  7  9]\n",
      " [13 13 13]]\n"
     ]
    }
   ],
   "source": [
    "# Dadas 2 matrices con dimensiones similares, ¿cómo obtener una salida de matriz \n",
    "# en la que cada elemento es una suma de elementos de las 2 matrices?\n",
    "\n",
    "matriz1 = np.array([[9, 8, 7], [1, 2, 3], [6, 5, 4]]) # crear matriz 1\n",
    "matriz2 = np.array([[3, 2, 1], [4, 5, 6], [7, 8, 9]]) # crear matriz 2\n",
    "\n",
    "matriz3 = matriz1 + matriz2 # realizar la suma de ambas matrices\n",
    "print(matriz3) # Imprimir la matriz resultante"
   ]
  },
  {
   "cell_type": "code",
   "execution_count": 3,
   "metadata": {},
   "outputs": [
    {
     "name": "stdout",
     "output_type": "stream",
     "text": [
      "[[1. 0. 0. 0.]\n",
      " [0. 1. 0. 0.]\n",
      " [0. 0. 1. 0.]\n",
      " [0. 0. 0. 1.]]\n"
     ]
    }
   ],
   "source": [
    "# Cree una matriz de identidad de dimensión 4\n",
    "\n",
    "matriz_identidad = np.identity(4) # crear matriz de 4 dimensiones\n",
    "\n",
    "print(matriz_identidad) # Imprimir la matriz identidad"
   ]
  },
  {
   "cell_type": "code",
   "execution_count": 13,
   "metadata": {},
   "outputs": [
    {
     "name": "stdout",
     "output_type": "stream",
     "text": [
      "[[ True False  True]\n",
      " [False  True False]\n",
      " [ True False False]]\n"
     ]
    }
   ],
   "source": [
    "# Convierte una matriz numpy binaria (que contiene solo 0 y 1) en una matriz numpy booleana.\n",
    "\n",
    "matriz_binaria = np.array([[1, 0, 1], [0, 1, 0], [1, 0, 0]])  # crear una matriz binaria\n",
    "matriz_booleana = matriz_binaria.astype(bool)  # convertir la matriz binaria en una matriz booleana\n",
    "print(matriz_booleana)  # Imprimir la matriz booleana resultante"
   ]
  },
  {
   "cell_type": "code",
   "execution_count": 14,
   "metadata": {},
   "outputs": [
    {
     "data": {
      "text/plain": [
       "array([  0,   2,   4,   6,   8,  10,  12,  14,  16,  18,  20,  22,  24,\n",
       "        26,  28,  30,  32,  34,  36,  38,  40,  42,  44,  46,  48,  50,\n",
       "        52,  54,  56,  58,  60,  62,  64,  66,  68,  70,  72,  74,  76,\n",
       "        78,  80,  82,  84,  86,  88,  90,  92,  94,  96,  98, 100])"
      ]
     },
     "execution_count": 14,
     "metadata": {},
     "output_type": "execute_result"
    }
   ],
   "source": [
    "# Genere una secuencia de números en forma de matriz numpy de 0 a 100 \n",
    "# con espacios de 2 números, por ejemplo: 0, 2, 4 ...\n",
    "\n",
    "matriz_4 = np.arange(0,101,2) # crear matriz con la secuencia de números de 0 a 100 con espacios de 2 números\n",
    "matriz_4   # Imprimir la matriz"
   ]
  }
 ],
 "metadata": {
  "kernelspec": {
   "display_name": "base",
   "language": "python",
   "name": "python3"
  },
  "language_info": {
   "codemirror_mode": {
    "name": "ipython",
    "version": 3
   },
   "file_extension": ".py",
   "mimetype": "text/x-python",
   "name": "python",
   "nbconvert_exporter": "python",
   "pygments_lexer": "ipython3",
   "version": "3.10.9"
  },
  "orig_nbformat": 4
 },
 "nbformat": 4,
 "nbformat_minor": 2
}
