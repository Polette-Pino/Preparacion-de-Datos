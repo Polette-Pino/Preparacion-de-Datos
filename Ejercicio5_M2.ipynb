{
 "cells": [
  {
   "cell_type": "code",
   "execution_count": 1,
   "metadata": {},
   "outputs": [],
   "source": [
    "import numpy as np\n",
    "import pandas as pd\n",
    "import random"
   ]
  },
  {
   "cell_type": "code",
   "execution_count": 2,
   "metadata": {},
   "outputs": [
    {
     "name": "stdout",
     "output_type": "stream",
     "text": [
      " B  I  N  G  O\n",
      " 1 17 34 49 63\n",
      " 4 25 38 50 64\n",
      " 5 26  0 54 65\n",
      "10 28 42 55 70\n",
      "11 29 44 58 74\n"
     ]
    }
   ],
   "source": [
    "# OPCION 1\n",
    "\n",
    "# generar una matriz de 5x5 con numeros aleatorios entre 1 y 75\n",
    "\n",
    "def generar_carton():\n",
    "    B = generar_numeros(1, 15, 5)\n",
    "    I = generar_numeros(16, 30, 5)\n",
    "    N = generar_numeros(31, 45, 5)\n",
    "    G = generar_numeros(46, 60, 5)\n",
    "    O = generar_numeros(61, 75, 5)\n",
    "\n",
    "\n",
    "    carton = np.concatenate((B, I, N, G, O), axis=0)\n",
    "\n",
    "    # transponer la matriz\n",
    "    carton = carton.T\n",
    "    # convertir la matriz en un dataframe\n",
    "    df = pd.DataFrame(carton)\n",
    "\n",
    "    # agregar los nombres de las columnas\n",
    "    df.columns = ['B', 'I', 'N', 'G', 'O']\n",
    "\n",
    "    # asignar el valor 0 a la columna N, posicion 2\n",
    "    df['N'][2] = '0'\n",
    "    return df\n",
    "\n",
    "\n",
    "def generar_numeros(desde, hasta, cantidad): \n",
    "\n",
    "    columna = np.random.randint(desde, hasta, (1, cantidad))\n",
    "\n",
    "    # verificar que no haya numeros repetidos\n",
    "    while len(np.unique(columna)) != cantidad:\n",
    "        columna = np.random.randint(desde, hasta, (1, cantidad))\n",
    "\n",
    "    return np.sort(columna)\n",
    "\n",
    "\n",
    "carton = generar_carton()\n",
    "\n",
    "# imprimir df sin indices\n",
    "print(carton.to_string(index=False))\n"
   ]
  },
  {
   "cell_type": "code",
   "execution_count": 3,
   "metadata": {},
   "outputs": [
    {
     "name": "stdout",
     "output_type": "stream",
     "text": [
      " B  I     N  G  O\n",
      " 4 21    39 47 61\n",
      " 6 23    41 52 66\n",
      " 9 27 libre 57 67\n",
      "11 28    43 58 72\n",
      "14 29    44 59 73\n"
     ]
    }
   ],
   "source": [
    "# OPCION 2\n",
    "\n",
    "# Definimos los rangos para cada columna (diccionario)\n",
    "rangos = {\n",
    "    'B': range(1, 15),\n",
    "    'I': range(16, 30),\n",
    "    'N': range(31, 45),\n",
    "    'G': range(46, 60),\n",
    "    'O': range(61, 75)\n",
    "}\n",
    "\n",
    "# Genera una matriz de 5x5 con números aleatorios ordenados para cada columna\n",
    "numeros_tabla = np.empty((5, 5), dtype='object')\n",
    "for i, (letra, rango) in enumerate(rangos.items()):  # genera los números aleatorios para cada columna de la tabla\n",
    "    numeros_columna = np.sort(np.random.choice(rango, 5, replace=False)) # se genera en cada iteracion una columna aleatoria y que no se repitan\n",
    "    numeros_tabla[:, i] = numeros_columna\n",
    "numeros_tabla[2, 2] = 'libre' # se asigna la cadena \"libre\" a la celda en la posición (2,2)\n",
    "\n",
    "# Crea un DataFrame de pandas para mostrar la tabla de Bingo\n",
    "tabla_bingo = pd.DataFrame(numeros_tabla, columns=['B', 'I', 'N', 'G', 'O'])\n",
    "\n",
    "# mostrar la tabla de bingo\n",
    "print(tabla_bingo.to_string(index=False))\n"
   ]
  }
 ],
 "metadata": {
  "kernelspec": {
   "display_name": "base",
   "language": "python",
   "name": "python3"
  },
  "language_info": {
   "codemirror_mode": {
    "name": "ipython",
    "version": 3
   },
   "file_extension": ".py",
   "mimetype": "text/x-python",
   "name": "python",
   "nbconvert_exporter": "python",
   "pygments_lexer": "ipython3",
   "version": "3.10.9"
  },
  "orig_nbformat": 4
 },
 "nbformat": 4,
 "nbformat_minor": 2
}
